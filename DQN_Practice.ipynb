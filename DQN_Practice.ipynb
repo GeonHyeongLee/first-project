{
  "cells": [
    {
      "cell_type": "markdown",
      "metadata": {
        "id": "view-in-github",
        "colab_type": "text"
      },
      "source": [
        "<a href=\"https://colab.research.google.com/github/GeonHyeongLee/first-project/blob/master/DQN_Practice.ipynb\" target=\"_parent\"><img src=\"https://colab.research.google.com/assets/colab-badge.svg\" alt=\"Open In Colab\"/></a>"
      ]
    },
    {
      "cell_type": "markdown",
      "metadata": {
        "id": "kOQCPD7R33zx",
        "pycharm": {
          "name": "#%% md\n"
        }
      },
      "source": [
        "# Setup"
      ]
    },
    {
      "cell_type": "code",
      "execution_count": 23,
      "metadata": {
        "id": "-zkHqkZU35_K",
        "pycharm": {
          "name": "#%%\n"
        },
        "colab": {
          "base_uri": "https://localhost:8080/"
        },
        "outputId": "d11d3ded-6be7-4549-a010-38878738a913"
      },
      "outputs": [
        {
          "output_type": "stream",
          "name": "stdout",
          "text": [
            "Reading package lists... Done\n",
            "Building dependency tree... Done\n",
            "Reading state information... Done\n",
            "libjpeg-dev is already the newest version (8c-2ubuntu10).\n",
            "xorg-dev is already the newest version (1:7.7+23ubuntu2).\n",
            "libboost-all-dev is already the newest version (1.74.0.3ubuntu7).\n",
            "swig is already the newest version (4.0.2-1ubuntu1).\n",
            "cmake is already the newest version (3.22.1-1ubuntu1.22.04.2).\n",
            "zlib1g-dev is already the newest version (1:1.2.11.dfsg-2ubuntu9.2).\n",
            "libsdl2-dev is already the newest version (2.0.20+dfsg-2ubuntu1.22.04.1).\n",
            "xvfb is already the newest version (2:21.1.4-2ubuntu1.7~22.04.8).\n",
            "0 upgraded, 0 newly installed, 0 to remove and 37 not upgraded.\n",
            "Requirement already satisfied: pyvirtualdisplay in /usr/local/lib/python3.10/dist-packages (3.0)\n",
            "Requirement already satisfied: piglet in /usr/local/lib/python3.10/dist-packages (1.0.0)\n",
            "Requirement already satisfied: piglet-templates in /usr/local/lib/python3.10/dist-packages (from piglet) (1.3.0)\n",
            "Requirement already satisfied: pyparsing in /usr/local/lib/python3.10/dist-packages (from piglet-templates->piglet) (3.1.2)\n",
            "Requirement already satisfied: attrs in /usr/local/lib/python3.10/dist-packages (from piglet-templates->piglet) (23.2.0)\n",
            "Requirement already satisfied: astunparse in /usr/local/lib/python3.10/dist-packages (from piglet-templates->piglet) (1.6.3)\n",
            "Requirement already satisfied: markupsafe in /usr/local/lib/python3.10/dist-packages (from piglet-templates->piglet) (2.1.5)\n",
            "Requirement already satisfied: wheel<1.0,>=0.23.0 in /usr/local/lib/python3.10/dist-packages (from astunparse->piglet-templates->piglet) (0.42.0)\n",
            "Requirement already satisfied: six<2.0,>=1.6.1 in /usr/local/lib/python3.10/dist-packages (from astunparse->piglet-templates->piglet) (1.16.0)\n"
          ]
        }
      ],
      "source": [
        "!apt-get install -y cmake zlib1g-dev libjpeg-dev xvfb \\\n",
        "    xorg-dev libboost-all-dev libsdl2-dev swig\n",
        "!pip install pyvirtualdisplay\n",
        "!pip install piglet"
      ]
    },
    {
      "cell_type": "code",
      "execution_count": 24,
      "metadata": {
        "id": "OL2XHV226-ib",
        "colab": {
          "base_uri": "https://localhost:8080/"
        },
        "outputId": "ae124da8-aa6d-4809-e7bd-05792d3ba0bd"
      },
      "outputs": [
        {
          "output_type": "stream",
          "name": "stdout",
          "text": [
            "Requirement already satisfied: gym[classic_control] in /usr/local/lib/python3.10/dist-packages (0.25.2)\n",
            "Requirement already satisfied: numpy>=1.18.0 in /usr/local/lib/python3.10/dist-packages (from gym[classic_control]) (1.25.2)\n",
            "Requirement already satisfied: cloudpickle>=1.2.0 in /usr/local/lib/python3.10/dist-packages (from gym[classic_control]) (2.2.1)\n",
            "Requirement already satisfied: gym-notices>=0.0.4 in /usr/local/lib/python3.10/dist-packages (from gym[classic_control]) (0.0.8)\n",
            "Requirement already satisfied: pygame==2.1.0 in /usr/local/lib/python3.10/dist-packages (from gym[classic_control]) (2.1.0)\n"
          ]
        }
      ],
      "source": [
        "!pip install gym[classic_control]"
      ]
    },
    {
      "cell_type": "code",
      "execution_count": 25,
      "metadata": {
        "id": "K9GEHdBh3_YV",
        "pycharm": {
          "name": "#%%\n"
        }
      },
      "outputs": [],
      "source": [
        "from pyvirtualdisplay import Display\n",
        "display = Display(visible=0, size=(1400, 900))\n",
        "display.start()\n",
        "from base64 import b64encode\n",
        "from glob import glob\n",
        "from IPython.display import HTML\n",
        "from IPython import display as ipy_display\n",
        "# import gymnasium as gym\n",
        "from gym import logger as gym_logger\n",
        "from gym.wrappers.record_video import RecordVideo\n",
        "import math"
      ]
    },
    {
      "cell_type": "code",
      "execution_count": 26,
      "metadata": {
        "id": "BV6YMib64DNx",
        "pycharm": {
          "name": "#%%\n"
        },
        "colab": {
          "base_uri": "https://localhost:8080/"
        },
        "outputId": "eef216c3-e085-4d7c-ec2c-0ef55e4281b6"
      },
      "outputs": [
        {
          "output_type": "stream",
          "name": "stderr",
          "text": [
            "/usr/local/lib/python3.10/dist-packages/ipykernel/ipkernel.py:283: DeprecationWarning: `should_run_async` will not call `transform_cell` automatically in the future. Please pass the result to `transformed_cell` argument and any exception that happen during thetransform in `preprocessing_exc_tuple` in IPython 7.17 and above.\n",
            "  and should_run_async(code)\n"
          ]
        }
      ],
      "source": [
        "from natsort import natsorted\n",
        "\n",
        "def show_video(env_name , mode='train', filename=None):\n",
        "    mp4_list = glob(env_name+'/'+mode+'/*.mp4')\n",
        "    if mp4_list:\n",
        "        if filename :\n",
        "            file_lists = glob(mode+'/'+filename)\n",
        "            if not file_lists:\n",
        "                print('No {} found'.format(filename))\n",
        "                return -1\n",
        "            mp4 = file_lists[0]\n",
        "\n",
        "        else:\n",
        "            mp4 = natsorted(mp4_list)[-1]\n",
        "\n",
        "        print(mp4)\n",
        "        video = open(mp4, 'r+b').read()\n",
        "        encoded = b64encode(video)\n",
        "        ipy_display.display(HTML(data='''\n",
        "            <video alt=\"gameplay\" autoplay controls style=\"height: 400px;\">\n",
        "                <source src=\"data:video/mp4;base64,%s\" type=\"video/mp4\" />\n",
        "            </video>\n",
        "        ''' % (encoded.decode('ascii'))))\n",
        "    else:\n",
        "        print('No video found')\n",
        "        return -1"
      ]
    },
    {
      "cell_type": "code",
      "execution_count": 27,
      "metadata": {
        "id": "dqpTJS9Oz29w",
        "pycharm": {
          "name": "#%%\n"
        }
      },
      "outputs": [],
      "source": [
        "import tensorflow as tf\n",
        "from tensorflow.keras import Model\n",
        "from tensorflow.keras.losses import MeanSquaredError\n",
        "from tensorflow.keras.optimizers import Adam\n",
        "from tensorflow.keras import Sequential\n",
        "from tensorflow.keras.layers import Dense\n",
        "from collections import deque\n",
        "import numpy as np\n",
        "import random\n",
        "import gym\n",
        "from matplotlib import pyplot as plt"
      ]
    },
    {
      "cell_type": "markdown",
      "metadata": {
        "id": "-504iOKnF3GT"
      },
      "source": [
        "# 함수 선언"
      ]
    },
    {
      "cell_type": "markdown",
      "metadata": {
        "id": "sAgNTrTR4NDh"
      },
      "source": [
        "## get_network(state_size, action_size)\n"
      ]
    },
    {
      "cell_type": "code",
      "execution_count": 28,
      "metadata": {
        "id": "2FjcZYOa4W-5"
      },
      "outputs": [],
      "source": [
        "def get_network(state_size, action_size):\n",
        "  # Q-네트워크 구조 구현\n",
        "  # 3개 Dense(Fully connected) 신경망\n",
        "  # 히든레이터 층수: 24(ReLU), 24(ReLU)\n",
        "  # 입력: 현재 상태\n",
        "  # 출력: 모든 가능한 행동에 대한 행동-가치함수 값\n",
        "\n",
        "  network = Sequential()\n",
        "\n",
        "  # TODO #\n",
        "  network.add(Dense(24, activation = 'relu', input_shape = (state_size,)))\n",
        "  network.add(Dense(24, activation = 'relu'))\n",
        "  network.add(Dense(action_size))\n",
        "\n",
        "  return network"
      ]
    },
    {
      "cell_type": "markdown",
      "metadata": {
        "id": "X4YPP-aFGtqA"
      },
      "source": [
        "정답 확인\n",
        "\n",
        "![get_network.jpg](data:image/jpeg;base64,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)"
      ]
    },
    {
      "cell_type": "code",
      "execution_count": 29,
      "metadata": {
        "id": "YseyCJ1347do",
        "colab": {
          "base_uri": "https://localhost:8080/"
        },
        "outputId": "cbcd7e38-ed8e-45f8-c7bc-9bb77327a759"
      },
      "outputs": [
        {
          "output_type": "stream",
          "name": "stdout",
          "text": [
            "Model: \"sequential_12\"\n",
            "_________________________________________________________________\n",
            " Layer (type)                Output Shape              Param #   \n",
            "=================================================================\n",
            " dense_36 (Dense)            (None, 24)                120       \n",
            "                                                                 \n",
            " dense_37 (Dense)            (None, 24)                600       \n",
            "                                                                 \n",
            " dense_38 (Dense)            (None, 2)                 50        \n",
            "                                                                 \n",
            "=================================================================\n",
            "Total params: 770 (3.01 KB)\n",
            "Trainable params: 770 (3.01 KB)\n",
            "Non-trainable params: 0 (0.00 Byte)\n",
            "_________________________________________________________________\n"
          ]
        }
      ],
      "source": [
        "network = get_network(4, 2)\n",
        "network.summary()"
      ]
    },
    {
      "cell_type": "markdown",
      "metadata": {
        "id": "ScVUEMRG4YXG"
      },
      "source": [
        "## update_target_network(q_network, target_q_network)"
      ]
    },
    {
      "cell_type": "code",
      "execution_count": 30,
      "metadata": {
        "id": "NEX-1n4A4iS3"
      },
      "outputs": [],
      "source": [
        "def update_target_network(q_network, target_q_network):\n",
        "  # Q-네트워크 가중치를 Target-Q-네트워크의 가중치로 설정\n",
        "  # get_weights(), set_weights()\n",
        "\n",
        "  # TODO #\n",
        "  target_q_network.set_weights(q_network.get_weights())\n",
        "\n",
        "\n",
        "  return target_q_network"
      ]
    },
    {
      "cell_type": "markdown",
      "metadata": {
        "id": "yXjnpZY6HK2X"
      },
      "source": [
        "정답 확인"
      ]
    },
    {
      "cell_type": "code",
      "execution_count": 31,
      "metadata": {
        "id": "Y0qC8jq-46FH",
        "colab": {
          "base_uri": "https://localhost:8080/"
        },
        "outputId": "fec8bbfb-226a-480e-8310-05980da18412"
      },
      "outputs": [
        {
          "output_type": "stream",
          "name": "stdout",
          "text": [
            "True\n"
          ]
        }
      ],
      "source": [
        "network1 = get_network(4, 2)\n",
        "network2 = get_network(4, 2)\n",
        "network2 = update_target_network(network1, network2)\n",
        "for i in range(len(network1.get_weights())):\n",
        "    if (network1.get_weights()[i] == network2.get_weights()[i]).all() and (network1 != network2) :\n",
        "        answer = True\n",
        "    else:\n",
        "        answer = False\n",
        "        break\n",
        "print(answer)"
      ]
    },
    {
      "cell_type": "markdown",
      "metadata": {
        "id": "PeXmNfMh4jho"
      },
      "source": [
        "## policy(state, epsilon, q_network)"
      ]
    },
    {
      "cell_type": "code",
      "execution_count": 51,
      "metadata": {
        "id": "4xgmLZ864pRl"
      },
      "outputs": [],
      "source": [
        "def policy(state, epsilon, action_size, q_network):\n",
        "  # 입력받은 상태에 대하여 행동을 결정하는 함수 구현\n",
        "  # 엡실론-그리디 알고리즘 구현\n",
        "\n",
        "  # TODO # epsilon보다 작을 경우 random action, 클 경우 q_network의 최대 보상 행동\n",
        "  # np(numpy)\n",
        "  if (np.random.uniform(0,1) < epsilon): # 행동을 랜덤으로\n",
        "    action = np.random.choice([x for x in range(action_size)])\n",
        "  else:\n",
        "    out = q_network(state) # q_network의 최대 보상 행동, 랜덤한 행동 중 가장 큰 index 가지도록\n",
        "    action = np.argmax(out)\n",
        "\n",
        "\n",
        "  return action"
      ]
    },
    {
      "cell_type": "markdown",
      "metadata": {
        "id": "64ds9-RlOQLK"
      },
      "source": [
        "정답 확인"
      ]
    },
    {
      "cell_type": "code",
      "execution_count": 53,
      "metadata": {
        "id": "4z4v1B9SLGdM",
        "colab": {
          "base_uri": "https://localhost:8080/"
        },
        "outputId": "a260c3aa-bd29-454d-f684-e6b031ec5d41"
      },
      "outputs": [
        {
          "output_type": "stream",
          "name": "stdout",
          "text": [
            "All tests passed!\n"
          ]
        }
      ],
      "source": [
        "# 여기서는 상태에 따라 동일한 출력을 반환하는 모델을 사용합니다.\n",
        "def mock_q_network(state):\n",
        "    return np.array([1, 0, 0, 0])  # 항상 첫 번째 행동을 선호하도록 설정\n",
        "\n",
        "# 검증 코드\n",
        "def test_policy():\n",
        "    np.random.seed(42)  # 결과의 일관성을 위해 시드 설정\n",
        "\n",
        "    # 엡실론이 1일 때 항상 무작위 행동을 선택해야 합니다.\n",
        "    for _ in range(1000):\n",
        "        assert policy(0, 1, 3, mock_q_network) in [0, 1, 2]\n",
        "\n",
        "    # 엡실론이 0일 때 항상 q_network의 최대값 행동을 선택해야 합니다.\n",
        "    for _ in range(1000):\n",
        "        assert policy(0, 0, 3, mock_q_network) == 0\n",
        "\n",
        "    print(\"All tests passed!\")\n",
        "\n",
        "# 검증 코드 실행\n",
        "test_policy()\n"
      ]
    },
    {
      "cell_type": "markdown",
      "metadata": {
        "id": "4v19EwKM4q0c"
      },
      "source": [
        "## remember(buffer, state, action, reward, next_state, done)"
      ]
    },
    {
      "cell_type": "code",
      "execution_count": 56,
      "metadata": {
        "id": "0-xg2Vx64usp",
        "colab": {
          "base_uri": "https://localhost:8080/"
        },
        "outputId": "09ae3808-e1b4-4c2f-98b2-4b4331382edb"
      },
      "outputs": [
        {
          "output_type": "stream",
          "name": "stderr",
          "text": [
            "/usr/local/lib/python3.10/dist-packages/ipykernel/ipkernel.py:283: DeprecationWarning: `should_run_async` will not call `transform_cell` automatically in the future. Please pass the result to `transformed_cell` argument and any exception that happen during thetransform in `preprocessing_exc_tuple` in IPython 7.17 and above.\n",
            "  and should_run_async(code)\n"
          ]
        }
      ],
      "source": [
        "def remember(buffer, state, action, reward, next_state, done):\n",
        "  # 입력받은 상태, 행동, 보상, 다음상태, done flag를 리플레이 버퍼에 축적하는 함수 구현\n",
        "\n",
        "  # TODO # buffer는 list고 위에 것들 넣어주기\n",
        "  buffer.append((state,action, reward, next_state, done))\n",
        "\n",
        "\n",
        "  return buffer"
      ]
    },
    {
      "cell_type": "markdown",
      "metadata": {
        "id": "PLEo5LBjHXa8"
      },
      "source": [
        "정답 확인"
      ]
    },
    {
      "cell_type": "code",
      "execution_count": 57,
      "metadata": {
        "id": "tZtuy07F48e0",
        "colab": {
          "base_uri": "https://localhost:8080/"
        },
        "outputId": "b71c2904-7bbe-4297-b6ee-da91205de486"
      },
      "outputs": [
        {
          "output_type": "execute_result",
          "data": {
            "text/plain": [
              "True"
            ]
          },
          "metadata": {},
          "execution_count": 57
        }
      ],
      "source": [
        "testbuffer = []\n",
        "\n",
        "testbuffer = remember(testbuffer,[0.01537205, -0.00303604, -0.01423469, -0.03586012], 0, 0.1, [0.01531132, -0.197951, -0.01495189, 0.25229785], False)\n",
        "testbuffer = remember(testbuffer, [0.01531132, -0.197951, -0.01495189, 0.25229785], 0, 0.1, [0.0113523, -0.3928563, -0.00990593, 0.5402274 ], False)\n",
        "testbuffer = remember(testbuffer, [0.0113523, -0.3928563, -0.00990593, 0.5402274], 0, 0.1, [0.00349518, -0.58783764, 0.00089862, 0.8297728 ], False)\n",
        "\n",
        "testbuffer == [([0.01537205, -0.00303604, -0.01423469, -0.03586012],\n",
        "  0,\n",
        "  0.1,\n",
        "  [0.01531132, -0.197951, -0.01495189, 0.25229785],\n",
        "  False),\n",
        " ([0.01531132, -0.197951, -0.01495189, 0.25229785],\n",
        "  0,\n",
        "  0.1,\n",
        "  [0.0113523, -0.3928563, -0.00990593, 0.5402274],\n",
        "  False),\n",
        " ([0.0113523, -0.3928563, -0.00990593, 0.5402274],\n",
        "  0,\n",
        "  0.1,\n",
        "  [0.00349518, -0.58783764, 0.00089862, 0.8297728],\n",
        "  False)]"
      ]
    },
    {
      "cell_type": "markdown",
      "metadata": {
        "id": "GHn-gPNgn-eL"
      },
      "source": []
    },
    {
      "cell_type": "markdown",
      "metadata": {
        "id": "mS9zfbf04wa8"
      },
      "source": [
        "## train(epsilon, epsilon_min, epsilon_decay, buffer, batch_size, target_q_network, gamma, q_network, action_size ,loss_fn, optimizer)"
      ]
    },
    {
      "cell_type": "code",
      "execution_count": null,
      "metadata": {
        "id": "n8SniKZf41Db"
      },
      "outputs": [],
      "source": [
        "def train(epsilon, epsilon_min, epsilon_decay, buffer, batch_size, target_q_network, gamma, q_network, action_size ,loss_fn, optimizer):\n",
        "\n",
        "  # TODO #\n",
        "\n",
        "  # GLIE 구현\n",
        "  ##### Update ######\n",
        "  epsilon =\n",
        "\n",
        "  # 리플레이 버퍼에서 배치사이즈만큼 랜덤하게 추출하여 mini_batch 구현\n",
        "  # random.sample 함수 활용\n",
        "  # https://docs.python.org/3/library/random.html?highlight=random%20sample#random.sample\n",
        "  mini_batch =\n",
        "\n",
        "  # mini_batch에서 각 아래 정보로 분리하기\n",
        "  states, actions, rewards, next_states, dones = zip(*mini_batch)\n",
        "\n",
        "  # 분리된 정보를 tensor 형태로 변환\n",
        "  states =\n",
        "  actions =\n",
        "  rewards =\n",
        "  next_states =\n",
        "  dones =\n",
        "\n",
        "  # 학습 Target 정의\n",
        "  # r + gamma * max_q_target(next_s)\n",
        "  # mini_batch 단위로 elements-wise하게 계산되어야 합니다.\n",
        "  # max_q_target을 위해서 행렬 내 최대값을 반환해주는 np.amax 함수 활용\n",
        "  # (참조: https://numpy.org/doc/stable/reference/generated/numpy.amax.html)\n",
        "  # (아래 코드를 활용해 보시기 바랍니다.\n",
        "  # np.amax([[0.1, 0.9], [0.7, 0.3]], axis=-1))\n",
        "  # 에피소드의 마지막 상태의 경우, only 보상이 target 값이 된다.\n",
        "  ##### Update ######\n",
        "  q_next =\n",
        "  max_q_next =\n",
        "  targets =\n",
        "\n",
        "  # q_network 학습\n",
        "  # tf.GradientTape() 함수를 활용하여 자동미분 후 학습에 활용\n",
        "  # (참조: https://teddylee777.github.io/tensorflow/gradient-tape)\n",
        "  with tf.GradientTape() as tape:\n",
        "      ##### Update ######\n",
        "      q =\n",
        "      one_hot_a =\n",
        "      q_sa =\n",
        "      # 오차 계산\n",
        "      loss =\n",
        "\n",
        "  # 손실함수를 통해 계산한 오차를 네트워크 가중치로 미분!\n",
        "  grads = tape.gradient(loss, q_network.trainable_weights)\n",
        "  # 미분값을 기준으로 각 네트워크 가중치를 업데이트!\n",
        "  optimizer.apply_gradients(zip(grads, q_network.trainable_weights))\n",
        "\n",
        "  return epsilon, q_network"
      ]
    },
    {
      "cell_type": "markdown",
      "metadata": {
        "id": "m2SPC8UdFjXr"
      },
      "source": [
        "# 환경 및 하이퍼파라미터"
      ]
    },
    {
      "cell_type": "markdown",
      "metadata": {
        "id": "m4ZPmYu6Ivkx"
      },
      "source": [
        "## 환경 정의"
      ]
    },
    {
      "cell_type": "code",
      "execution_count": null,
      "metadata": {
        "id": "QdVA9nOtmZL3"
      },
      "outputs": [],
      "source": [
        "# 새롭게 학습을 시작할 때 기존 녹화 영상을 지워주는 셀\n",
        "!rm -rf MountainCar-v0\n",
        "!rm -rf Acrobot-v1"
      ]
    },
    {
      "cell_type": "code",
      "execution_count": null,
      "metadata": {
        "id": "6JTxfQQwIxYv"
      },
      "outputs": [],
      "source": [
        "# --------------------\n",
        "# ENV_NAME = \"Acrobot-v1\"\n",
        "# ENV_NAME = \"MountainCar-v0\"\n",
        "# --------------------\n",
        "ENV_NAME = \"MountainCar-v0\"\n",
        "env = gym.make(ENV_NAME, render_mode=\"rgb_array\")\n",
        "\n",
        "# 비디오 레코딩\n",
        "env = RecordVideo(env, f'./{ENV_NAME}/train',  episode_trigger = lambda episode_number: True)"
      ]
    },
    {
      "cell_type": "markdown",
      "metadata": {
        "id": "LzTSqKn_IzD-"
      },
      "source": [
        "## 하이퍼파라미터 설정"
      ]
    },
    {
      "cell_type": "code",
      "execution_count": null,
      "metadata": {
        "id": "F1BgRkBWI1tL"
      },
      "outputs": [],
      "source": [
        "# 감쇠율 및 엡실론 정의\n",
        "# TODO #\n",
        "# Greedy in the limit of infinite exploration (GLIE) 정책 고려\n",
        "##### Update ######\n",
        "gamma =\n",
        "epsilon =\n",
        "epsilon_decay =\n",
        "epsilon_min =\n",
        "\n",
        "# 리플레이 버퍼 크기 및 학습 시작 크기 정의\n",
        "# TODO #\n",
        "buffer_size =\n",
        "buffer_size_train_start =\n",
        "\n",
        "# 리플레이 버퍼 정의\n",
        "# deque 자료구조 활용 (참조: https://chaewonkong.github.io/posts/python-deque.html)\n",
        "# TODO #\n",
        "buffer =\n",
        "\n",
        "# 인공신경망 학습 하이퍼파라미터 설정\n",
        "# TODO #\n",
        "##### Update ######\n",
        "loss_fn =\n",
        "learning_rate =\n",
        "optimizer =\n",
        "batch_size ="
      ]
    },
    {
      "cell_type": "markdown",
      "metadata": {
        "id": "CY1gGAdfIRN8"
      },
      "source": [
        "## Q-네트워크 및 타겟(Q)-네트워크 정의"
      ]
    },
    {
      "cell_type": "code",
      "execution_count": null,
      "metadata": {
        "id": "KLszGOCUIQOx"
      },
      "outputs": [],
      "source": [
        "# 환경의 상태와 행동 크기 정의\n",
        "state_size = env.observation_space.shape[0]\n",
        "action_size = env.action_space.n\n",
        "\n",
        "# Q-네트워크 및 타겟(Q)-네트워크 정의\n",
        "q_network =\n",
        "target_q_network =\n",
        "\n",
        "# 타겟(Q)-네트워크 파라미터 복제 함수 정의\n",
        "target_q_network ="
      ]
    },
    {
      "cell_type": "markdown",
      "metadata": {
        "id": "EeaXNp6ZFtI6"
      },
      "source": [
        "# DQN 학습"
      ]
    },
    {
      "cell_type": "code",
      "execution_count": null,
      "metadata": {
        "id": "ezct4vVXErpm"
      },
      "outputs": [],
      "source": [
        "scores, avg_scores, episodes = [], [], []\n",
        "\n",
        "# 반복 학습 에피소드 수 정의\n",
        "num_episode = 100\n",
        "\n",
        "for epoch in range(num_episode):\n",
        "    # done flag와 score 값 초기화\n",
        "    done = False\n",
        "    score = 0\n",
        "\n",
        "    # 환경 reset을 통해 초기 상태 정의\n",
        "    state = env.reset()\n",
        "\n",
        "    while not done:\n",
        "        # 현재 상태에 대하여 행동 정의\n",
        "        action = policy(state[np.newaxis,:], epsilon, action_size, q_network)\n",
        "\n",
        "        # env.step 함수를 이용하여 행동에 대한 다음 상태, 보상, done flag 등 획득\n",
        "        next_state, reward, done, info = env.step(action)\n",
        "\n",
        "        # 해당 에피소드의 최종 score를 위해 reward 값 누적\n",
        "        score += reward\n",
        "\n",
        "        # 기본 환경은 매 time step마다 -1의 보상을 준다.\n",
        "        # 자신만의 보상가설을 만들어 학습 가능\n",
        "        # TODO #\n",
        "        reward =\n",
        "\n",
        "        # 획득된 상태, 행동, 보상, 다음상태, done flag를 리플레이 버퍼에 축적\n",
        "        buffer =\n",
        "\n",
        "        # 다음 상태를 현재 상태로 정의\n",
        "        state =\n",
        "\n",
        "        # buffer 크기가 일정 기준 이상 쌓이면 학습 진행\n",
        "        # TODO #\n",
        "\n",
        "        if done:\n",
        "            # 에피소드가 종료되면 target_q_network 파라미터 복제\n",
        "            # TODO #\n",
        "            target_q_network = update_target_network(q_network,target_q_network)\n",
        "\n",
        "            # 에피소드 종료마다 결과 그래프 저장\n",
        "            scores.append(score)\n",
        "            avg_scores.append(np.mean(scores[-10:]))\n",
        "            episodes.append(epoch)\n",
        "            plt.plot(episodes, avg_scores, 'b')\n",
        "            plt.xlabel('episode')\n",
        "            plt.ylabel('average score')\n",
        "            plt.savefig('graph.png')\n",
        "\n",
        "            # 에피소드 종료마다 결과 출력\n",
        "            print('episode: {:3d} | avg_score: {:3.2f} | buffer_size: {:4d} | epsilon: {:.4f}'.format(epoch,\n",
        "                                                                                           np.mean(scores[-10:]),\n",
        "                                                                                           len(buffer),\n",
        "                                                                                           epsilon))\n",
        "\n",
        "env.close()"
      ]
    },
    {
      "cell_type": "code",
      "execution_count": null,
      "metadata": {
        "id": "S5GLxNsU-0KG",
        "pycharm": {
          "name": "#%%\n"
        }
      },
      "outputs": [],
      "source": [
        " show_video(env_name = ENV_NAME)"
      ]
    },
    {
      "cell_type": "markdown",
      "metadata": {
        "id": "TE3lhQxEfppJ",
        "pycharm": {
          "name": "#%% md\n"
        }
      },
      "source": [
        "# 학습된 DQN 정책 Greedy Test"
      ]
    },
    {
      "cell_type": "code",
      "execution_count": null,
      "metadata": {
        "id": "BnMlfa13Y8-7",
        "pycharm": {
          "name": "#%%\n"
        }
      },
      "outputs": [],
      "source": [
        "env = gym.make(ENV_NAME, render_mode=\"rgb_array\")\n",
        "\n",
        "# 비디오 레코딩\n",
        "env = RecordVideo(env, f'./{ENV_NAME}/test',  episode_trigger = lambda episode_number: True)\n",
        "\n",
        "# greedy policy\n",
        "epsilon = 0.0\n",
        "\n",
        "score = 0\n",
        "state = env.reset()\n",
        "done = False\n",
        "\n",
        "while not done:\n",
        "\n",
        "    # 현재 상태에 대하여 행동 정의\n",
        "    action = policy(state[np.newaxis,:], epsilon, action_size, q_network)\n",
        "\n",
        "    # env.step 함수를 이용하여 행동에 대한 다음 상태, 보상, done flag 등 획득\n",
        "    next_state, reward, done, info = env.step(action)\n",
        "\n",
        "    # 해당 에피소드의 최종 score를 위해 reward 값 누적\n",
        "    score += reward\n",
        "\n",
        "    # 다음 상태를 현재 상태로 정의\n",
        "    state = next_state\n",
        "\n",
        "print(\"Score: \", score)"
      ]
    },
    {
      "cell_type": "code",
      "execution_count": null,
      "metadata": {
        "id": "G-vjnA98Z36I",
        "pycharm": {
          "name": "#%%\n"
        }
      },
      "outputs": [],
      "source": [
        "show_video(env_name = ENV_NAME ,mode='test')"
      ]
    },
    {
      "cell_type": "code",
      "execution_count": null,
      "metadata": {
        "id": "tUl2iKeqRWVz"
      },
      "outputs": [],
      "source": []
    }
  ],
  "metadata": {
    "accelerator": "GPU",
    "colab": {
      "collapsed_sections": [
        "kOQCPD7R33zx",
        "mS9zfbf04wa8",
        "m4ZPmYu6Ivkx",
        "LzTSqKn_IzD-",
        "CY1gGAdfIRN8"
      ],
      "provenance": [],
      "include_colab_link": true
    },
    "gpuClass": "standard",
    "kernelspec": {
      "display_name": "Python 3",
      "name": "python3"
    },
    "language_info": {
      "name": "python"
    }
  },
  "nbformat": 4,
  "nbformat_minor": 0
}